{
 "cells": [
  {
   "cell_type": "markdown",
   "metadata": {
    "id": "0V_KuxkcZv4f"
   },
   "source": [
    "Colab tutorial for uploading data. \n",
    "\n",
    "https://colab.research.google.com/notebooks/io.ipynb"
   ]
  },
  {
   "cell_type": "code",
   "execution_count": 9,
   "metadata": {
    "colab": {
     "base_uri": "https://localhost:8080/"
    },
    "id": "Zbu56lbcZy9U",
    "outputId": "bdb3787c-ced9-4244-9780-02e38f92bd2f"
   },
   "outputs": [
    {
     "name": "stdout",
     "output_type": "stream",
     "text": [
      "Sampling rate: 1250.0 Hz\n"
     ]
    },
    {
     "data": {
      "text/plain": [
       "<KeysViewHDF5 ['1', '10', '11', '12', '13', '14', '15', '16', '17', '18', '19', '2', '20', '21', '22', '23', '24', '25', '26', '27', '28', '29', '3', '30', '31', '32', '33', '34', '35', '36', '37', '38', '39', '4', '40', '41', '42', '43', '44', '45', '46', '47', '48', '49', '5', '50', '51', '52', '53', '54', '55', '56', '57', '58', '59', '6', '7', '8', '9']>"
      ]
     },
     "execution_count": 9,
     "metadata": {},
     "output_type": "execute_result"
    }
   ],
   "source": [
    "import h5py\n",
    "import numpy as np\n",
    "\n",
    "filepath = 'Rat08-20130711_017.h5'  # data file\n",
    "f = h5py.File(filepath, 'r')  # read data with h5 format\n",
    "fs = f.attrs['fs'][0]  # get sampling frequency of LFP signal (Hz)\n",
    "print(\"Sampling rate: %.1f Hz\" % (fs))\n",
    "\n",
    "f['NREM'][.keys()"
   ]
  },
  {
   "cell_type": "code",
   "execution_count": 4,
   "metadata": {
    "colab": {
     "base_uri": "https://localhost:8080/"
    },
    "id": "c-tsFnkF4ikk",
    "outputId": "ddbfe595-d43b-45ac-fb45-40963e112b73"
   },
   "outputs": [
    {
     "name": "stdout",
     "output_type": "stream",
     "text": [
      "State: NREM\n",
      "Segment IDs:\n",
      "['1', '10', '11', '12', '13', '14', '15', '16', '17', '18', '19', '2', '20', '21', '22', '23', '24', '25', '26', '27', '28', '29', '3', '30', '31', '32', '33', '34', '35', '36', '37', '38', '39', '4', '40', '41', '42', '43', '44', '45', '46', '47', '48', '49', '5', '50', '51', '52', '53', '54', '55', '56', '57', '58', '59', '6', '7', '8', '9']\n",
      "State: WAKE\n",
      "Segment IDs:\n",
      "['1', '10', '11', '12', '13', '14', '15', '16', '17', '18', '19', '2', '20', '21', '22', '23', '24', '25', '26', '27', '28', '29', '3', '30', '31', '32', '33', '34', '35', '36', '37', '4', '5', '6', '7', '8', '9']\n"
     ]
    }
   ],
   "source": [
    "states = []  # two states (NREM & WAKE) to be classified\n",
    "# LFP recordings are store in two h5 groups for each state\n",
    "# Under each h5 group, the LFP recordings are divided into several segments with different lengths.\n",
    "for name, grp in f.items():\n",
    "  states.append(name)\n",
    "  print(\"State: %s\" % (name))\n",
    "  print(\"Segment IDs:\")\n",
    "  print(list(grp.keys()))"
   ]
  },
  {
   "cell_type": "code",
   "execution_count": 5,
   "metadata": {
    "id": "2IoqxVilXqr_"
   },
   "outputs": [],
   "source": [
    "# Convert the recording in to numpy arrays\n",
    "# Use a dictionary to store the LFP recordings of the two states\n",
    "# each containing a list of numpy arrays of all segments\n",
    "lfp = {key: [] for key in states}  \n",
    "for key in states:\n",
    "  group = f[key]  # h5 group of a state\n",
    "  n = len(group)  # number of segments\n",
    "  for i in range(n):\n",
    "    lfp[key].append(group[str(i+1)][()].astype(float))  # convert data to numpy array and from int type to float type\n",
    "\n",
    "# print(lfp)"
   ]
  },
  {
   "cell_type": "markdown",
   "metadata": {
    "id": "bd_dM9kPE4jY"
   },
   "source": [
    "Example for accessing a segment."
   ]
  },
  {
   "cell_type": "code",
   "execution_count": 7,
   "metadata": {
    "colab": {
     "base_uri": "https://localhost:8080/",
     "height": 279
    },
    "id": "L_Bo9VG28e6x",
    "outputId": "e9ba16b8-0de3-457a-e7ac-614f74152d1b"
   },
   "outputs": [
    {
     "name": "stdout",
     "output_type": "stream",
     "text": [
      "Collecting matplotlib\n",
      "  Downloading matplotlib-3.5.1-cp38-cp38-macosx_10_9_x86_64.whl (7.3 MB)\n",
      "\u001b[2K     \u001b[90m━━━━━━━━━━━━━━━━━━━━━━━━━━━━━━━━━━━━━━━━\u001b[0m \u001b[32m7.3/7.3 MB\u001b[0m \u001b[31m6.8 MB/s\u001b[0m eta \u001b[36m0:00:00\u001b[0m00:01\u001b[0m00:01\u001b[0m\n",
      "\u001b[?25hCollecting cycler>=0.10\n",
      "  Using cached cycler-0.11.0-py3-none-any.whl (6.4 kB)\n",
      "Collecting fonttools>=4.22.0\n",
      "  Downloading fonttools-4.31.2-py3-none-any.whl (899 kB)\n",
      "\u001b[2K     \u001b[90m━━━━━━━━━━━━━━━━━━━━━━━━━━━━━━━━━━━━━━━\u001b[0m \u001b[32m899.5/899.5 KB\u001b[0m \u001b[31m9.1 MB/s\u001b[0m eta \u001b[36m0:00:00\u001b[0m00:01\u001b[0m00:01\u001b[0m\n",
      "\u001b[?25hRequirement already satisfied: pyparsing>=2.2.1 in /Users/gregglickert/opt/anaconda3/envs/pytorch/lib/python3.8/site-packages (from matplotlib) (3.0.7)\n",
      "Requirement already satisfied: python-dateutil>=2.7 in /Users/gregglickert/opt/anaconda3/envs/pytorch/lib/python3.8/site-packages (from matplotlib) (2.8.2)\n",
      "Requirement already satisfied: numpy>=1.17 in /Users/gregglickert/opt/anaconda3/envs/pytorch/lib/python3.8/site-packages (from matplotlib) (1.22.3)\n",
      "Collecting pillow>=6.2.0\n",
      "  Downloading Pillow-9.1.0-cp38-cp38-macosx_10_9_x86_64.whl (3.1 MB)\n",
      "\u001b[2K     \u001b[90m━━━━━━━━━━━━━━━━━━━━━━━━━━━━━━━━━━━━━━━━\u001b[0m \u001b[32m3.1/3.1 MB\u001b[0m \u001b[31m4.1 MB/s\u001b[0m eta \u001b[36m0:00:00\u001b[0m00:01\u001b[0m00:01\u001b[0mm\n",
      "\u001b[?25hRequirement already satisfied: packaging>=20.0 in /Users/gregglickert/opt/anaconda3/envs/pytorch/lib/python3.8/site-packages (from matplotlib) (21.3)\n",
      "Collecting kiwisolver>=1.0.1\n",
      "  Downloading kiwisolver-1.4.2-cp38-cp38-macosx_10_9_x86_64.whl (65 kB)\n",
      "\u001b[2K     \u001b[90m━━━━━━━━━━━━━━━━━━━━━━━━━━━━━━━━━━━━━━━━\u001b[0m \u001b[32m65.3/65.3 KB\u001b[0m \u001b[31m2.0 MB/s\u001b[0m eta \u001b[36m0:00:00\u001b[0m\n",
      "\u001b[?25hRequirement already satisfied: six>=1.5 in /Users/gregglickert/opt/anaconda3/envs/pytorch/lib/python3.8/site-packages (from python-dateutil>=2.7->matplotlib) (1.16.0)\n",
      "Installing collected packages: pillow, kiwisolver, fonttools, cycler, matplotlib\n",
      "Successfully installed cycler-0.11.0 fonttools-4.31.2 kiwisolver-1.4.2 matplotlib-3.5.1 pillow-9.1.0\n"
     ]
    },
    {
     "data": {
      "image/png": "[encoded data removed]",
      "text/plain": [
       "<Figure size 432x288 with 1 Axes>"
      ]
     },
     "metadata": {
      "needs_background": "light"
     },
     "output_type": "display_data"
    }
   ],
   "source": [
    "import matplotlib.pyplot as plt\n",
    "\n",
    "x = lfp['NREM'][10]  # accessing the 10-th LFP segment in NREM state\n",
    "t = np.arange(x.size)/fs  # time points\n",
    "\n",
    "plt.plot(t,x)\n",
    "plt.xlabel('second')\n",
    "plt.show()"
   ]
  },
  {
   "cell_type": "code",
   "execution_count": null,
   "metadata": {},
   "outputs": [],
   "source": []
  }
 ],
 "metadata": {
  "colab": {
   "collapsed_sections": [],
   "name": "lfp_state_classification_read_data.ipynb",
   "provenance": []
  },
  "kernelspec": {
   "display_name": "Python 3 (ipykernel)",
   "language": "python",
   "name": "python3"
  },
  "language_info": {
   "codemirror_mode": {
    "name": "ipython",
    "version": 3
   },
   "file_extension": ".py",
   "mimetype": "text/x-python",
   "name": "python",
   "nbconvert_exporter": "python",
   "pygments_lexer": "ipython3",
   "version": "3.8.13"
  }
 },
 "nbformat": 4,
 "nbformat_minor": 1
}
