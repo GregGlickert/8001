{
 "cells": [
  {
   "cell_type": "markdown",
   "id": "912e02e3",
   "metadata": {},
   "source": [
    "# superposition for linear static/dynamic systems"
   ]
  },
  {
   "cell_type": "markdown",
   "id": "67206c10",
   "metadata": {},
   "source": [
    "# The superposition theorem states is that F(x1+x2) = F(x1) +  F(x2) \n",
    "# If a function follows the superposition theorem than that function is linear"
   ]
  },
  {
   "cell_type": "markdown",
   "id": "1981d134",
   "metadata": {},
   "source": [
    "## code example showing examples"
   ]
  },
  {
   "cell_type": "code",
   "execution_count": 19,
   "id": "6d984829",
   "metadata": {},
   "outputs": [
    {
     "name": "stdout",
     "output_type": "stream",
     "text": [
      "Linear function is F = 2x x1 = 2 and x2 = 3\n",
      "F(x1 + x2) equals 10 and F(x1) + F(x2) equals 10\n",
      "since F(x1 + x2) = F(x1) + F(x2) than the function is linear\n",
      " \n",
      "Non linear function is y = 2x^2 x1 = 2 and x2 = 3\n",
      "F(x1 + x2) equals 50 and F(x1) + F(x2) equals 26\n",
      "since F(x1 + x2) != F(x1) + F(x2) than the function is not linear\n",
      " \n"
     ]
    }
   ],
   "source": [
    "def linear_function(x):\n",
    "    f = 2*x\n",
    "    return f\n",
    "\n",
    "def not_linear_function(x):\n",
    "    f = 2*(x**2)\n",
    "    return f\n",
    "    \n",
    "\n",
    "x1 = 2\n",
    "x2 = 3\n",
    "x_total = x1 + x2\n",
    "\n",
    "# proving linear function is linear\n",
    "F_x1 = linear_function(x1)\n",
    "F_x2 = linear_function(x2)\n",
    "F_x1_plus_x2 = linear_function(x_total)\n",
    "\n",
    "print('Linear function is F = 2x x1 = {} and x2 = {}'.format(x1, x2))\n",
    "print(\"F(x1 + x2) equals {} and F(x1) + F(x2) equals {}\".format(F_x1_plus_x2, (F_x1 + F_x2)))\n",
    "print(\"since F(x1 + x2) = F(x1) + F(x2) than the function is linear\\n \")\n",
    "\n",
    "\n",
    "# proving not_linear function is not linear \n",
    "F_x1 = not_linear_function(x1)\n",
    "F_x2 = not_linear_function(x2)\n",
    "F_x1_plus_x2 = not_linear_function(x_total)\n",
    "\n",
    "print('Non linear function is y = 2x^2 x1 = {} and x2 = {}'.format(x1, x2))\n",
    "print(\"F(x1 + x2) equals {} and F(x1) + F(x2) equals {}\".format(F_x1_plus_x2, (F_x1 + F_x2)))\n",
    "print(\"since F(x1 + x2) != F(x1) + F(x2) than the function is not linear\\n \")\n",
    "\n",
    "\n",
    "\n",
    "\n",
    "\n"
   ]
  },
  {
   "cell_type": "code",
   "execution_count": null,
   "id": "9c56292e",
   "metadata": {},
   "outputs": [],
   "source": []
  },
  {
   "cell_type": "code",
   "execution_count": null,
   "id": "e6950740",
   "metadata": {},
   "outputs": [],
   "source": []
  }
 ],
 "metadata": {
  "kernelspec": {
   "display_name": "Python 3 (ipykernel)",
   "language": "python",
   "name": "python3"
  },
  "language_info": {
   "codemirror_mode": {
    "name": "ipython",
    "version": 3
   },
   "file_extension": ".py",
   "mimetype": "text/x-python",
   "name": "python",
   "nbconvert_exporter": "python",
   "pygments_lexer": "ipython3",
   "version": "3.9.7"
  }
 },
 "nbformat": 4,
 "nbformat_minor": 5
}
